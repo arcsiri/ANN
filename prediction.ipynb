{
 "cells": [
  {
   "cell_type": "code",
   "execution_count": 2,
   "id": "2944de15",
   "metadata": {},
   "outputs": [],
   "source": [
    "import pandas as pd\n",
    "from tensorflow.keras.models import load_model\n",
    "import pickle\n",
    "import numpy as np\n",
    "import tensorflow as tf"
   ]
  },
  {
   "cell_type": "code",
   "execution_count": 6,
   "id": "e8b2bd69",
   "metadata": {},
   "outputs": [],
   "source": [
    "#load all the pickle files\n",
    "model=load_model('model.h5')\n",
    "\n",
    "with open('label_encoder_gender.pkl','rb') as file:\n",
    "    label_encoder_gender=pickle.load(file)\n",
    "with open('onehot_encoding_geo.pkl','rb') as file:\n",
    "    onehot_encoder_geo=pickle.load(file)\n",
    "with open('std_scalar.pkl','rb') as file:\n",
    "    scalar=pickle.load(file)\n",
    "\n"
   ]
  },
  {
   "cell_type": "code",
   "execution_count": 10,
   "id": "8d85bf20",
   "metadata": {},
   "outputs": [],
   "source": [
    "#input data\n",
    "Input={'CreditScore': 600\n",
    " , 'Geography': 'France'\n",
    " ,'Gender':'Male'\n",
    " , 'Age':40\n",
    " , 'Tenure':3,\n",
    "   'Balance':60000,\n",
    "   'NumOfProducts': 2,\n",
    "  'HasCrCard':1\n",
    " ,'IsActiveMember':1\n",
    " , 'EstimatedSalary':50000\n",
    "}"
   ]
  },
  {
   "cell_type": "code",
   "execution_count": 15,
   "id": "be86fd7e",
   "metadata": {},
   "outputs": [
    {
     "name": "stderr",
     "output_type": "stream",
     "text": [
      "c:\\Users\\siri_\\Desktop\\ANN\\venv\\Lib\\site-packages\\sklearn\\utils\\validation.py:2749: UserWarning: X does not have valid feature names, but OneHotEncoder was fitted with feature names\n",
      "  warnings.warn(\n"
     ]
    }
   ],
   "source": [
    "# One-hot encode \"Geography\"\n",
    "geo_encoded=onehot_encoder_geo.transform([[Input['Geography']]])\n",
    "data_geo=pd.DataFrame(geo_encoded.toarray(),columns=onehot_encoder_geo.get_feature_names_out(['Geography']))\n"
   ]
  },
  {
   "cell_type": "code",
   "execution_count": 16,
   "id": "8dc971ca",
   "metadata": {},
   "outputs": [],
   "source": [
    "Input_data=pd.DataFrame([Input])\n",
    "Input_data=pd.concat([Input_data.drop('Geography',axis=1),data_geo],axis=1)\n"
   ]
  },
  {
   "cell_type": "code",
   "execution_count": 20,
   "id": "7964bf35",
   "metadata": {},
   "outputs": [],
   "source": [
    "#label encodeing\n",
    "Input_data.Gender=label_encoder_gender.transform(Input_data.Gender)"
   ]
  },
  {
   "cell_type": "code",
   "execution_count": 21,
   "id": "b6843119",
   "metadata": {},
   "outputs": [
    {
     "data": {
      "text/html": [
       "<div>\n",
       "<style scoped>\n",
       "    .dataframe tbody tr th:only-of-type {\n",
       "        vertical-align: middle;\n",
       "    }\n",
       "\n",
       "    .dataframe tbody tr th {\n",
       "        vertical-align: top;\n",
       "    }\n",
       "\n",
       "    .dataframe thead th {\n",
       "        text-align: right;\n",
       "    }\n",
       "</style>\n",
       "<table border=\"1\" class=\"dataframe\">\n",
       "  <thead>\n",
       "    <tr style=\"text-align: right;\">\n",
       "      <th></th>\n",
       "      <th>CreditScore</th>\n",
       "      <th>Gender</th>\n",
       "      <th>Age</th>\n",
       "      <th>Tenure</th>\n",
       "      <th>Balance</th>\n",
       "      <th>NumOfProducts</th>\n",
       "      <th>HasCrCard</th>\n",
       "      <th>IsActiveMember</th>\n",
       "      <th>EstimatedSalary</th>\n",
       "      <th>Geography_France</th>\n",
       "      <th>Geography_Germany</th>\n",
       "      <th>Geography_Spain</th>\n",
       "    </tr>\n",
       "  </thead>\n",
       "  <tbody>\n",
       "    <tr>\n",
       "      <th>0</th>\n",
       "      <td>600</td>\n",
       "      <td>1</td>\n",
       "      <td>40</td>\n",
       "      <td>3</td>\n",
       "      <td>60000</td>\n",
       "      <td>2</td>\n",
       "      <td>1</td>\n",
       "      <td>1</td>\n",
       "      <td>50000</td>\n",
       "      <td>1.0</td>\n",
       "      <td>0.0</td>\n",
       "      <td>0.0</td>\n",
       "    </tr>\n",
       "  </tbody>\n",
       "</table>\n",
       "</div>"
      ],
      "text/plain": [
       "   CreditScore  Gender  Age  Tenure  Balance  NumOfProducts  HasCrCard  \\\n",
       "0          600       1   40       3    60000              2          1   \n",
       "\n",
       "   IsActiveMember  EstimatedSalary  Geography_France  Geography_Germany  \\\n",
       "0               1            50000               1.0                0.0   \n",
       "\n",
       "   Geography_Spain  \n",
       "0              0.0  "
      ]
     },
     "execution_count": 21,
     "metadata": {},
     "output_type": "execute_result"
    }
   ],
   "source": [
    "Input_data"
   ]
  },
  {
   "cell_type": "code",
   "execution_count": 22,
   "id": "bcefd26b",
   "metadata": {},
   "outputs": [],
   "source": [
    "#standard scaling\n",
    "Input_data=scalar.transform(Input_data)\n"
   ]
  },
  {
   "cell_type": "code",
   "execution_count": 25,
   "id": "a0ef2954",
   "metadata": {},
   "outputs": [
    {
     "name": "stdout",
     "output_type": "stream",
     "text": [
      "1/1 [==============================] - 0s 28ms/step\n"
     ]
    }
   ],
   "source": [
    "prediction=model.predict(Input_data)"
   ]
  },
  {
   "cell_type": "code",
   "execution_count": 26,
   "id": "2214cb59",
   "metadata": {},
   "outputs": [],
   "source": [
    "pred_prob= prediction[0][0]"
   ]
  },
  {
   "cell_type": "code",
   "execution_count": 27,
   "id": "69ed9de9",
   "metadata": {},
   "outputs": [
    {
     "name": "stdout",
     "output_type": "stream",
     "text": [
      "customer is likely to churn\n"
     ]
    }
   ],
   "source": [
    "if pred_prob>0.5:\n",
    "    print(\"customer is likely to churn\")\n",
    "else:\n",
    "    print(\"customer is unlikely to churn\")"
   ]
  },
  {
   "cell_type": "code",
   "execution_count": null,
   "id": "26444b46",
   "metadata": {},
   "outputs": [],
   "source": []
  }
 ],
 "metadata": {
  "kernelspec": {
   "display_name": "Python 3",
   "language": "python",
   "name": "python3"
  },
  "language_info": {
   "codemirror_mode": {
    "name": "ipython",
    "version": 3
   },
   "file_extension": ".py",
   "mimetype": "text/x-python",
   "name": "python",
   "nbconvert_exporter": "python",
   "pygments_lexer": "ipython3",
   "version": "3.11.11"
  }
 },
 "nbformat": 4,
 "nbformat_minor": 5
}
